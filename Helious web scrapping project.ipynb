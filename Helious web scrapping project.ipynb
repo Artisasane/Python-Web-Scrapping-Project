{
 "cells": [
  {
   "cell_type": "code",
   "execution_count": 3,
   "id": "19e230f4-606c-402c-8293-753fc0ce6182",
   "metadata": {},
   "outputs": [],
   "source": [
    "from bs4 import BeautifulSoup\n",
    "import requests\n",
    "import pandas as pd\n",
    "import numpy as np"
   ]
  },
  {
   "cell_type": "code",
   "execution_count": 4,
   "id": "04c5d969-e323-4822-bdda-ef43ceea2de6",
   "metadata": {},
   "outputs": [],
   "source": [
    "# Function to extract Product Title\n",
    "def get_Title(soup):\n",
    "    try:\n",
    "        Title = soup.find(\"h3\").text.strip()\n",
    "    except AttributeError:\n",
    "        Title = \"N/A\"\n",
    "    return Title\n"
   ]
  },
  {
   "cell_type": "code",
   "execution_count": 5,
   "id": "12122b9c-ab95-41b8-8c8f-c5934d8a957b",
   "metadata": {},
   "outputs": [],
   "source": [
    "# Function to extract Product Discount Price\n",
    "def get_Price(soup):\n",
    "    try:\n",
    "        Price = soup.find(\"span\", {'class': 'special-price sp-custom check-3'}).text.strip()\n",
    "    except AttributeError:\n",
    "        Price = \"N/A\"\n",
    "    return Price\n"
   ]
  },
  {
   "cell_type": "code",
   "execution_count": 6,
   "id": "8e08e36f-e386-4d35-aedf-fd68164d3473",
   "metadata": {},
   "outputs": [],
   "source": [
    "# Function to extract Product Discount\n",
    "def get_Product_Model(soup):\n",
    "    try:\n",
    "        Product_Model = soup.find(\"div\", {'class': 'product attribute sku'}).text.strip()\n",
    "    except AttributeError:\n",
    "        Product_Model = \"N/A\"\n",
    "    return Product_Model"
   ]
  },
  {
   "cell_type": "code",
   "execution_count": 7,
   "id": "04796e33-5be8-4beb-bf7d-fa0089a87aa6",
   "metadata": {},
   "outputs": [],
   "source": [
    "# Function to extract Product Original Price\n",
    "def get_Product_Tag(soup):\n",
    "    try:\n",
    "        Product_Tag = soup.find(\"div\", {'class': 'product_tags'}).text.strip()\n",
    "    except AttributeError:\n",
    "        Product_Tag = \"N/A\"\n",
    "    return Product_Tag"
   ]
  },
  {
   "cell_type": "code",
   "execution_count": 8,
   "id": "ba0a7cdf-ef7b-46fa-8704-0e87ce406151",
   "metadata": {},
   "outputs": [],
   "source": [
    "if __name__ == '__main__':\n",
    "\n",
    "    # add your user agent \n",
    "    headers = {\n",
    "    \"User-Agent\": \"Mozilla/5.0 (Windows NT 10.0; Win64; x64) AppleWebKit/537.36 (KHTML, like Gecko) Chrome/131.0.0.0 Safari/537.36\"\n",
    "}\n"
   ]
  },
  {
   "cell_type": "code",
   "execution_count": 9,
   "id": "877dc793-bdb4-455e-bea1-970cced81bfc",
   "metadata": {},
   "outputs": [],
   "source": [
    " # The webpage URL\n",
    "url = \"https://www.helioswatchstore.com/mens-watches\""
   ]
  },
  {
   "cell_type": "code",
   "execution_count": 10,
   "id": "4b250433-4451-44d1-8015-4aadd75b7694",
   "metadata": {},
   "outputs": [],
   "source": [
    "# HTTP Request\n",
    "webpage = requests.get(url, headers=headers)"
   ]
  },
  {
   "cell_type": "code",
   "execution_count": 11,
   "id": "7d2d0e24-ac9d-42c0-b019-df91c8989238",
   "metadata": {},
   "outputs": [],
   "source": [
    "# Soup Object containing all data\n",
    "soup = BeautifulSoup(webpage.content, \"html.parser\")"
   ]
  },
  {
   "cell_type": "code",
   "execution_count": 12,
   "id": "17be2e15-e989-44aa-8b6b-388915ee9f52",
   "metadata": {},
   "outputs": [],
   "source": [
    "# Fetch links as List of Tag Objects\n",
    "links = soup.find_all(\"a\", {'class':'product photo product-item-photo'})"
   ]
  },
  {
   "cell_type": "code",
   "execution_count": 13,
   "id": "a616e777-f01b-44f1-bf20-e503722c2123",
   "metadata": {},
   "outputs": [],
   "source": [
    "# Store the links\n",
    "links_list = []"
   ]
  },
  {
   "cell_type": "code",
   "execution_count": 14,
   "id": "7b0abd8a-4f56-4cdf-a0e8-8e5a3eb9051a",
   "metadata": {},
   "outputs": [],
   "source": [
    "# Loop for extracting links from Tag Objects\n",
    "for link in links:\n",
    "        links_list.append(link.get('href'))"
   ]
  },
  {
   "cell_type": "code",
   "execution_count": 15,
   "id": "4a0d4a0f-0441-4c79-9580-4b47ca6c4e32",
   "metadata": {},
   "outputs": [],
   "source": [
    "d = {\"Title\":[], \"Price\":[], \"Product_Model\":[], \"Product_Tag\":[]}"
   ]
  },
  {
   "cell_type": "code",
   "execution_count": 16,
   "id": "bd7a0c29-69c5-481c-aad7-f6a7e1c4abea",
   "metadata": {},
   "outputs": [],
   "source": [
    "# Loop for extracting product details from each link \n",
    "for link in links_list:\n",
    "    new_webpage = requests.get(link, headers=headers)\n",
    "\n",
    "    new_soup = BeautifulSoup(new_webpage.content, \"html.parser\")\n",
    "\n",
    "    # Function calls to display all necessary product information\n",
    "    d['Title'].append(get_Title(new_soup))\n",
    "    d['Price'].append(get_Price(new_soup))\n",
    "    d['Product_Model'].append(get_Product_Model(new_soup))\n",
    "    d['Product_Tag'].append(get_Product_Tag(new_soup))"
   ]
  },
  {
   "cell_type": "code",
   "execution_count": 17,
   "id": "579948f6-5559-4b39-845c-527ec4c990fe",
   "metadata": {},
   "outputs": [
    {
     "name": "stderr",
     "output_type": "stream",
     "text": [
      "C:\\Users\\Admin\\AppData\\Local\\Temp\\ipykernel_9908\\1793676314.py:2: FutureWarning: A value is trying to be set on a copy of a DataFrame or Series through chained assignment using an inplace method.\n",
      "The behavior will change in pandas 3.0. This inplace method will never work because the intermediate object on which we are setting values always behaves as a copy.\n",
      "\n",
      "For example, when doing 'df[col].method(value, inplace=True)', try using 'df.method({col: value}, inplace=True)' or df[col] = df[col].method(value) instead, to perform the operation inplace on the original object.\n",
      "\n",
      "\n",
      "  Watch_df['Title'].replace('', np.nan, inplace=True)\n"
     ]
    }
   ],
   "source": [
    "Watch_df = pd.DataFrame.from_dict(d)\n",
    "Watch_df['Title'].replace('', np.nan, inplace=True)\n",
    "Watch_df = Watch_df.dropna(subset=['Title'])\n",
    "Watch_df.to_csv(\"Watch_data.csv\", header=True, index=False)"
   ]
  },
  {
   "cell_type": "code",
   "execution_count": 18,
   "id": "16ff8a8e-190d-4d54-ac84-569646f80268",
   "metadata": {},
   "outputs": [
    {
     "data": {
      "text/html": [
       "<div>\n",
       "<style scoped>\n",
       "    .dataframe tbody tr th:only-of-type {\n",
       "        vertical-align: middle;\n",
       "    }\n",
       "\n",
       "    .dataframe tbody tr th {\n",
       "        vertical-align: top;\n",
       "    }\n",
       "\n",
       "    .dataframe thead th {\n",
       "        text-align: right;\n",
       "    }\n",
       "</style>\n",
       "<table border=\"1\" class=\"dataframe\">\n",
       "  <thead>\n",
       "    <tr style=\"text-align: right;\">\n",
       "      <th></th>\n",
       "      <th>Title</th>\n",
       "      <th>Price</th>\n",
       "      <th>Product_Model</th>\n",
       "      <th>Product_Tag</th>\n",
       "    </tr>\n",
       "  </thead>\n",
       "  <tbody>\n",
       "    <tr>\n",
       "      <th>0</th>\n",
       "      <td>Movado</td>\n",
       "      <td>₹74,625</td>\n",
       "      <td>SKU 3600898</td>\n",
       "      <td>Trending</td>\n",
       "    </tr>\n",
       "    <tr>\n",
       "      <th>1</th>\n",
       "      <td>Guess</td>\n",
       "      <td>₹12,695</td>\n",
       "      <td>SKU GW0386G3</td>\n",
       "      <td>Trending</td>\n",
       "    </tr>\n",
       "    <tr>\n",
       "      <th>2</th>\n",
       "      <td>Versace</td>\n",
       "      <td>₹89,500</td>\n",
       "      <td>SKU VEVK00620</td>\n",
       "      <td>Trending</td>\n",
       "    </tr>\n",
       "    <tr>\n",
       "      <th>3</th>\n",
       "      <td>Cerruti</td>\n",
       "      <td>₹30,000</td>\n",
       "      <td>SKU CECIWGN0019503W</td>\n",
       "      <td>Trending</td>\n",
       "    </tr>\n",
       "    <tr>\n",
       "      <th>4</th>\n",
       "      <td>Balmain</td>\n",
       "      <td>₹47,300</td>\n",
       "      <td>SKU B41083152</td>\n",
       "      <td>Trending</td>\n",
       "    </tr>\n",
       "    <tr>\n",
       "      <th>5</th>\n",
       "      <td>Citizen</td>\n",
       "      <td>₹36,900</td>\n",
       "      <td>SKU NJ0151-88M</td>\n",
       "      <td>Trending</td>\n",
       "    </tr>\n",
       "    <tr>\n",
       "      <th>6</th>\n",
       "      <td>Kenneth Cole</td>\n",
       "      <td>N/A</td>\n",
       "      <td>SKU KCGD21740</td>\n",
       "      <td>Trending</td>\n",
       "    </tr>\n",
       "    <tr>\n",
       "      <th>7</th>\n",
       "      <td>Edge</td>\n",
       "      <td>₹19,495</td>\n",
       "      <td>SKU 1843QM02</td>\n",
       "      <td>Trending</td>\n",
       "    </tr>\n",
       "    <tr>\n",
       "      <th>8</th>\n",
       "      <td>G-Shock</td>\n",
       "      <td>₹16,995</td>\n",
       "      <td>SKU G1160</td>\n",
       "      <td>Trending</td>\n",
       "    </tr>\n",
       "    <tr>\n",
       "      <th>9</th>\n",
       "      <td>Casio</td>\n",
       "      <td>₹5,995</td>\n",
       "      <td>SKU D128</td>\n",
       "      <td>Trending</td>\n",
       "    </tr>\n",
       "    <tr>\n",
       "      <th>10</th>\n",
       "      <td>Fitbit</td>\n",
       "      <td>N/A</td>\n",
       "      <td>SKU FB521BKGB</td>\n",
       "      <td>Trending</td>\n",
       "    </tr>\n",
       "    <tr>\n",
       "      <th>11</th>\n",
       "      <td>Tissot</td>\n",
       "      <td>₹37,000</td>\n",
       "      <td>SKU T1374101104100</td>\n",
       "      <td>Trending</td>\n",
       "    </tr>\n",
       "  </tbody>\n",
       "</table>\n",
       "</div>"
      ],
      "text/plain": [
       "           Title    Price        Product_Model Product_Tag\n",
       "0         Movado  ₹74,625          SKU 3600898    Trending\n",
       "1          Guess  ₹12,695         SKU GW0386G3    Trending\n",
       "2        Versace  ₹89,500        SKU VEVK00620    Trending\n",
       "3        Cerruti  ₹30,000  SKU CECIWGN0019503W    Trending\n",
       "4        Balmain  ₹47,300        SKU B41083152    Trending\n",
       "5        Citizen  ₹36,900       SKU NJ0151-88M    Trending\n",
       "6   Kenneth Cole      N/A        SKU KCGD21740    Trending\n",
       "7           Edge  ₹19,495         SKU 1843QM02    Trending\n",
       "8        G-Shock  ₹16,995            SKU G1160    Trending\n",
       "9          Casio   ₹5,995             SKU D128    Trending\n",
       "10        Fitbit      N/A        SKU FB521BKGB    Trending\n",
       "11        Tissot  ₹37,000   SKU T1374101104100    Trending"
      ]
     },
     "execution_count": 18,
     "metadata": {},
     "output_type": "execute_result"
    }
   ],
   "source": [
    "Watch_df"
   ]
  },
  {
   "cell_type": "code",
   "execution_count": null,
   "id": "4d722cc5-edc9-4e70-a788-14e977ca7cfe",
   "metadata": {},
   "outputs": [],
   "source": []
  }
 ],
 "metadata": {
  "kernelspec": {
   "display_name": "Python 3 (ipykernel)",
   "language": "python",
   "name": "python3"
  },
  "language_info": {
   "codemirror_mode": {
    "name": "ipython",
    "version": 3
   },
   "file_extension": ".py",
   "mimetype": "text/x-python",
   "name": "python",
   "nbconvert_exporter": "python",
   "pygments_lexer": "ipython3",
   "version": "3.11.0"
  }
 },
 "nbformat": 4,
 "nbformat_minor": 5
}
